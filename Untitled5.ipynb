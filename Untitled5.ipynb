{
 "cells": [
  {
   "cell_type": "code",
   "execution_count": 24,
   "id": "d22a5c4f-cb80-4a65-b3a7-06d50f5bfaa6",
   "metadata": {},
   "outputs": [],
   "source": [
    "from openbabel import pybel\n",
    "\n",
    "# Clean protein\n",
    "protein = next(pybel.readfile(\"pdb\", \"2FOM.pdb\"))\n",
    "protein.OBMol.AddHydrogens()\n",
    "protein.write(\"pdb\", \"2FOM_clean.pdb\", overwrite=True)\n",
    "\n",
    "# Clean ligand\n",
    "ligand = next(pybel.readfile(\"pdb\", \"remdesivir.pdb\"))\n",
    "ligand.OBMol.AddHydrogens()\n",
    "ligand.write(\"pdb\", \"remdesivir_clean.pdb\", overwrite=True)\n"
   ]
  },
  {
   "cell_type": "code",
   "execution_count": 25,
   "id": "a68d8b26-ec53-41c3-b23f-5363c386686a",
   "metadata": {},
   "outputs": [],
   "source": [
    "from openbabel import pybel\n",
    "\n",
    "protein = next(pybel.readfile(\"pdb\", \"2FOM_clean.pdb\"))\n",
    "protein.write(\"pdbqt\", \"2FOM_clean.pdbqt\", overwrite=True)\n",
    "\n",
    "ligand = next(pybel.readfile(\"pdb\", \"remdesivir_clean.pdb\"))\n",
    "ligand.write(\"pdbqt\", \"remdesivir_clean.pdbqt\", overwrite=True)\n"
   ]
  },
  {
   "cell_type": "code",
   "execution_count": 26,
   "id": "22fff3cf-df8b-42bb-9e80-c74affa4cba7",
   "metadata": {},
   "outputs": [],
   "source": [
    "from openbabel import pybel\n",
    "\n",
    "protein = next(pybel.readfile(\"pdb\", \"2FOM_clean.pdb\"))\n",
    "protein.OBMol.AddHydrogens()\n",
    "protein.write(\"pdbqt\", \"2FOM_clean.pdbqt\", overwrite=True)\n"
   ]
  },
  {
   "cell_type": "code",
   "execution_count": 27,
   "id": "e246f0b0-3368-4175-81c7-b000e1087a24",
   "metadata": {},
   "outputs": [
    {
     "name": "stdout",
     "output_type": "stream",
     "text": [
      "swig/python detected a memory leak of type 'BHtree *', no destructor found.\n",
      "swig/python detected a memory leak of type 'BHtree *', no destructor found.\n",
      "Unable to assign HAD type to atom N\n",
      "Unable to assign valence to atom 2FOM_clean:A:MET46:N type = N\n",
      "Unable to assign HAD type to atom N\n",
      "Unable to assign valence to atom 2FOM_clean:A:ARG60:N type = N\n",
      "Unable to assign HAD type to atom N\n",
      "Unable to assign valence to atom 2FOM_clean:A:PRO72:N type = N\n",
      "Unable to assign HAD type to atom N\n",
      "Unable to assign valence to atom 2FOM_clean:A:SER75:N type = N\n",
      "Unable to assign HAD type to atom N\n",
      "Unable to assign valence to atom 2FOM_clean:B:GLU19:N type = N\n",
      "Unable to assign HAD type to atom N\n",
      "Unable to assign valence to atom 2FOM_clean:B:ARG54:N type = N\n",
      "Unable to assign HAD type to atom N\n",
      "Unable to assign valence to atom 2FOM_clean:B:GLY80:N type = N\n",
      "Unable to assign HAD type to atom N\n",
      "Unable to assign valence to atom 2FOM_clean:B:GLY80:N type = N\n",
      "Unable to assign HAD type to atom N\n",
      "Unable to assign valence to atom 2FOM_clean:B:GLY81:N type = N\n",
      "Unable to assign HAD type to atom N\n",
      "Unable to assign valence to atom 2FOM_clean:B:LEU98:N type = N\n",
      "Unable to assign MAP type to atom N\n",
      "Sorry, there are no Gasteiger parameters available for atom 2FOM_clean:A:MET46:N\n",
      "Unable to assign MAP type to atom N\n",
      "Sorry, there are no Gasteiger parameters available for atom 2FOM_clean:A:ARG60:N\n",
      "Sorry, there are no Gasteiger parameters available for atom 2FOM_clean:A:SER68:OG\n",
      "Sorry, there are no Gasteiger parameters available for atom 2FOM_clean:A:SER68:OG\n",
      "Sorry, there are no Gasteiger parameters available for atom 2FOM_clean:A:SER71:OG\n",
      "Sorry, there are no Gasteiger parameters available for atom 2FOM_clean:A:SER71:OG\n",
      "Unable to assign MAP type to atom N\n",
      "Sorry, there are no Gasteiger parameters available for atom 2FOM_clean:A:PRO72:N\n",
      "Unable to assign MAP type to atom N\n",
      "Sorry, there are no Gasteiger parameters available for atom 2FOM_clean:A:SER75:N\n",
      "Sorry, there are no Gasteiger parameters available for atom 2FOM_clean:A:SER75:OG\n",
      "Sorry, there are no Gasteiger parameters available for atom 2FOM_clean:A:SER75:OG\n",
      "Sorry, there are no Gasteiger parameters available for atom 2FOM_clean:B:LEU18:O\n",
      "Unable to assign MAP type to atom N\n",
      "Sorry, there are no Gasteiger parameters available for atom 2FOM_clean:B:GLU19:N\n",
      "Unable to assign MAP type to atom N\n",
      "Sorry, there are no Gasteiger parameters available for atom 2FOM_clean:B:ARG54:N\n",
      "Unable to assign MAP type to atom N\n",
      "Sorry, there are no Gasteiger parameters available for atom 2FOM_clean:B:GLY80:N\n",
      "Unable to assign MAP type to atom N\n",
      "Sorry, there are no Gasteiger parameters available for atom 2FOM_clean:B:GLY80:N\n",
      "Sorry, there are no Gasteiger parameters available for atom 2FOM_clean:B:GLY80:O\n",
      "Sorry, there are no Gasteiger parameters available for atom 2FOM_clean:B:GLY80:O\n",
      "Unable to assign MAP type to atom N\n",
      "Sorry, there are no Gasteiger parameters available for atom 2FOM_clean:B:GLY81:N\n",
      "Unable to assign MAP type to atom N\n",
      "Sorry, there are no Gasteiger parameters available for atom 2FOM_clean:B:LEU98:N\n"
     ]
    }
   ],
   "source": [
    "! \"C:\\Program Files (x86)\\MGLTools-1.5.7\\python.exe\" \"C:\\Program Files (x86)\\MGLTools-1.5.7\\Lib\\site-packages\\AutoDockTools\\Utilities24\\prepare_receptor4.py\" -r 2FOM_clean.pdb -o 2FOM_prepared.pdbqt -A hydrogens\n"
   ]
  },
  {
   "cell_type": "code",
   "execution_count": 28,
   "id": "1c1cdfab-53b9-4ef9-8707-38ad44ef9314",
   "metadata": {},
   "outputs": [
    {
     "name": "stdout",
     "output_type": "stream",
     "text": [
      "swig/python detected a memory leak of type 'BHtree *', no destructor found.\n"
     ]
    }
   ],
   "source": [
    "! \"C:\\Program Files (x86)\\MGLTools-1.5.7\\python.exe\" \"C:\\Program Files (x86)\\MGLTools-1.5.7\\Lib\\site-packages\\AutoDockTools\\Utilities24\\prepare_ligand4.py\" -l remdesivir_clean.pdb -o remdesivir_prepared.pdbqt -A hydrogens\n"
   ]
  },
  {
   "cell_type": "code",
   "execution_count": 29,
   "id": "0a7aa4b5-0728-40fd-bb65-e6ef9d8992f3",
   "metadata": {},
   "outputs": [
    {
     "name": "stdout",
     "output_type": "stream",
     "text": [
      "AutoDock Vina v1.2.7\n",
      "#################################################################\n",
      "# If you used AutoDock Vina in your work, please cite:          #\n",
      "#                                                               #\n",
      "# J. Eberhardt, D. Santos-Martins, A. F. Tillack, and S. Forli  #\n",
      "# AutoDock Vina 1.2.0: New Docking Methods, Expanded Force      #\n",
      "# Field, and Python Bindings, J. Chem. Inf. Model. (2021)       #\n",
      "# DOI 10.1021/acs.jcim.1c00203                                  #\n",
      "#                                                               #\n",
      "# O. Trott, A. J. Olson,                                        #\n",
      "# AutoDock Vina: improving the speed and accuracy of docking    #\n",
      "# with a new scoring function, efficient optimization and       #\n",
      "# multithreading, J. Comp. Chem. (2010)                         #\n",
      "# DOI 10.1002/jcc.21334                                         #\n",
      "#                                                               #\n",
      "# Please see https://github.com/ccsb-scripps/AutoDock-Vina for  #\n",
      "# more information.                                             #\n",
      "#################################################################\n",
      "\n",
      "Scoring function : vina\n",
      "Rigid receptor: 2FOM_prepared.pdbqt\n",
      "Ligand: remdesivir_prepared.pdbqt\n",
      "Grid center: X 1.32854 Y -5.56887 Z 15.2057\n",
      "Grid size  : X 25.1963 Y 16.1212 Z 28.0339\n",
      "Grid space : 0.375\n",
      "Exhaustiveness: 8\n",
      "CPU: 0\n",
      "Verbosity: 1\n",
      "\n",
      "Computing Vina grid ... done.\n",
      "Performing docking (random seed: 802365309) ... \n",
      "0%   10   20   30   40   50   60   70   80   90   100%\n",
      "|----|----|----|----|----|----|----|----|----|----|\n",
      "***************************************************\n",
      "\n",
      "mode |   affinity | dist from best mode\n",
      "     | (kcal/mol) | rmsd l.b.| rmsd u.b.\n",
      "-----+------------+----------+----------\n",
      "   1       -7.115          0          0\n",
      "   2       -6.893      2.753      8.097\n",
      "   3        -6.84      3.594      6.826\n",
      "   4       -6.614        2.9      9.145\n",
      "   5       -6.606      2.769      8.878\n",
      "   6       -6.586      4.084      7.919\n",
      "   7       -6.507      1.653      4.151\n",
      "   8       -6.499      3.025      6.657\n",
      "   9       -6.412      3.205      6.153\n"
     ]
    },
    {
     "name": "stderr",
     "output_type": "stream",
     "text": [
      "WARNING: At low exhaustiveness, it may be impossible to utilize all CPUs.\n"
     ]
    }
   ],
   "source": [
    "!vina.exe --receptor 2FOM_prepared.pdbqt --ligand remdesivir_prepared.pdbqt --center_x 1.32854 --center_y -5.56887 --center_z 15.2057 --size_x 25.1963 --size_y 16.1212 --size_z 28.0339 --out docked_output.pdbqt\n"
   ]
  },
  {
   "cell_type": "code",
   "execution_count": 30,
   "id": "e8cb89aa-d041-450f-8f79-236b3adcf1f8",
   "metadata": {},
   "outputs": [
    {
     "name": "stdout",
     "output_type": "stream",
     "text": [
      "Python 3.10.18\n"
     ]
    }
   ],
   "source": [
    "!python --version"
   ]
  }
 ],
 "metadata": {
  "kernelspec": {
   "display_name": "Python 2.7 (docking)",
   "language": "python",
   "name": "docking"
  },
  "language_info": {
   "codemirror_mode": {
    "name": "ipython",
    "version": 3
   },
   "file_extension": ".py",
   "mimetype": "text/x-python",
   "name": "python",
   "nbconvert_exporter": "python",
   "pygments_lexer": "ipython3",
   "version": "3.13.5"
  }
 },
 "nbformat": 4,
 "nbformat_minor": 5
}
